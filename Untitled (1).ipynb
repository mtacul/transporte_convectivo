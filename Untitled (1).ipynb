{
 "cells": [
  {
   "cell_type": "code",
   "execution_count": 1,
   "id": "86956a0f",
   "metadata": {},
   "outputs": [],
   "source": [
    "import numpy as np\n",
    "import scipy as sc"
   ]
  },
  {
   "cell_type": "markdown",
   "id": "ca1b430d",
   "metadata": {},
   "source": [
    "Funciones"
   ]
  },
  {
   "cell_type": "markdown",
   "id": "b7a90230",
   "metadata": {},
   "source": [
    "Q"
   ]
  },
  {
   "cell_type": "code",
   "execution_count": 2,
   "id": "efd406f9",
   "metadata": {},
   "outputs": [],
   "source": [
    "def Q_dot_ev_1(m_dot_r, h_r_salida, h_r_entrada)\n",
    "    return m_dot_r*(h_r_salida - h_r_entrada)\n",
    "\n",
    "def Q_dot_ev_2(epsilon_humedo, C_dot_m_humedo, t_bulbohumedo, t_r_entrada)\n",
    "    return epsilon_humedo*C_dot_m_humedo*(t_bulbohumedo - t_r_entrada)\n",
    "\n",
    "def Q_dot_ev_3(m_dot_a, t_bulbohumedo_entrada, t_bulbohumedo_salida, C_p_ff)\n",
    "    return m_dot_a*(t_bulbohumedo_entrada - t_bulbohumedo_salida)*C_p_ff\n",
    "\n",
    "def Q_dot_ev_4(m_dot_a, h_a_entrada, h_a_salida, W_a_entrada, W_a_salida, C_p_ff)\n",
    "    return m_dot_a*(h_a_entrada - h_a_salida) - m_dot_a*(W_a_entrada - W_a_salida)*C_p_ff"
   ]
  },
  {
   "cell_type": "markdown",
   "id": "c395c4dc",
   "metadata": {},
   "source": [
    "Otras"
   ]
  },
  {
   "cell_type": "code",
   "execution_count": 3,
   "id": "d66e4fad",
   "metadata": {},
   "outputs": [],
   "source": [
    "#Número de Nusselt de chu\n",
    "Nu_chu_TP = lambda Re_TP, Pr_L, mu_B, mu_w, P_atm, P_sys : 0.43*(Re_TP**0.55)*(Pr_L**(1/3))*((mu_B/mu_w)**0.14)*((P_atm/P_sys)**0.17)\n",
    "\n",
    "#coeficiente convectivo monofásico\n",
    "h_cv_r_monof = lambda Nu, k, L : Nu*k/L\n",
    "\n",
    "#Número de Reynolds\n",
    "Re = lambda U, L, nu : U*L/nu\n",
    "\n",
    "#Resistencia térmica del refrigerante\n",
    "R_r = lambda h_cv_r, A_r : 1/(h_cv_r*A_r)\n",
    "\n",
    "#Resistencia térmica del fluido ficticio\n",
    "R_fa = lambda h_cv_a, C_p_fa, C_p_a, A_a : 1/(h_cv_a*(C_p_fa/C_p_a)*A_a)\n",
    "\n",
    "#Resistencia geométrica\n",
    "R_m = lambda D_ext, D_in, k, L, A_a : (np.log(D_ext/D_in))/(2*np.pi*k*(L/A_a))\n",
    "\n",
    "#Velocidad\n",
    "U = lambda A, R_r, R_fa, R_m : 1/(A*(R_r + R_fa + R_m))\n",
    "\n",
    "#Número de unidades de transferencia\n",
    "NTU = lambda A, U, C_dot_min_wet : A*U/C_dot_min_wet\n",
    "\n",
    "#epsilon\n",
    "epsilon = lambda NTU : 1 - np.exp(-NTU)\n",
    "\n",
    "#Número de Prandtl\n",
    "Pr = lambda mu, C_p, k : mu*C_p/k\n"
   ]
  },
  {
   "cell_type": "markdown",
   "id": "14af5263",
   "metadata": {},
   "source": [
    "Entrada"
   ]
  },
  {
   "cell_type": "code",
   "execution_count": 4,
   "id": "3681ea37",
   "metadata": {},
   "outputs": [],
   "source": [
    "#Viscosidad dinámica\n",
    "mu_B = 1.8*10**-5 #[N*s/m^2]\n",
    "mu_w = 1*10**-6 #[N*s/m^2]\n",
    "\n",
    "#Viscosidad cinemática\n",
    "nu = 1.5*10**-5 #[m^2/s]\n",
    "\n",
    "#Calor específico\n",
    "C_p = 1*10**-3 #[N*m/kg*°C]\n",
    "C_p_fa = 1.5*10**-3 #[N*m/kg*°C]\n",
    "C_p_a = C_p #[N*m/kg*°C]\n",
    "\n",
    "#Conductividad térmica\n",
    "k = 0.025 #[(N*m/s)*(1/m*K)]\n",
    "\n",
    "#Presión\n",
    "P_atm = 1.01325*10**5 #[N/m^2]\n",
    "P_sys = P_atm*10.5 #[N/m^2]\n",
    "\n",
    "#L\n",
    "L = 1 #[m]\n",
    "\n",
    "#Área \n",
    "A = 0.125 #[m^2]\n",
    "A_r = 0.04 #[m^2]\n",
    "A_a = A #[m^2]\n",
    "\n",
    "#Diámetro\n",
    "D_ext = 0.02 #[m]\n",
    "D_in = 0.015 #[m]\n",
    "\n",
    "C_dot_min_wet = 3.6\n",
    "\n",
    "#flujo masa\n",
    "m_dot_a = 12\n",
    "m_dot_r = 10\n",
    "\n",
    "#Temperatura\n",
    "t_bulbohumedo = 12 + 273\n",
    "t_r_entrada = 20 + 273\n",
    "t_bulbohumedo_en = 15 + 273\n",
    "t_bulbohumedo_sal = 25 + 273"
   ]
  },
  {
   "cell_type": "markdown",
   "id": "4a227fda",
   "metadata": {},
   "source": [
    "Test"
   ]
  },
  {
   "cell_type": "code",
   "execution_count": 5,
   "id": "92cd22db",
   "metadata": {},
   "outputs": [],
   "source": [
    "h_cv_r_1 = 10\n",
    "h_cv_a_1 = 15"
   ]
  },
  {
   "cell_type": "code",
   "execution_count": 6,
   "id": "682a89bf",
   "metadata": {},
   "outputs": [
    {
     "name": "stdout",
     "output_type": "stream",
     "text": [
      "h_cv_r = 0.0002349868275157742\n",
      "h_cv_r_monof = 0.00023498682745104333\n"
     ]
    }
   ],
   "source": [
    "Pr_L_1 = Pr(mu_B, C_p_a, k)\n",
    "\n",
    "a = 0\n",
    "b = 0\n",
    "while a == 0 and b < 100:\n",
    "    R_r_1 = R_r(h_cv_r_1, A_r)\n",
    "\n",
    "    R_fa_1 = R_fa(h_cv_a_1, C_p_fa, C_p_a, A_a) \n",
    "\n",
    "    R_m_1 = R_m(D_ext, D_in, k, L, A_a)\n",
    "\n",
    "    U_1 = U(A, R_r_1, R_fa_1, R_m_1)\n",
    "\n",
    "    Re_1 = Re(U_1, L, nu)\n",
    "\n",
    "    Nu_1 = Nu_chu_TP(Re_1, Pr_L_1, mu_B, mu_w, P_atm, P_sys)\n",
    "\n",
    "    h_cv_r_monof_1 = h_cv_r_monof(Nu_1, k, L)\n",
    "    \n",
    "    b = b+1\n",
    "    \n",
    "    if h_cv_r_monof_1 == h_cv_r_1:\n",
    "        a = 1\n",
    "        \n",
    "    else:\n",
    "        h_cv_r_1 = (h_cv_r_1 + h_cv_r_monof_1)/2\n",
    "\n",
    "print('h_cv_r =', h_cv_r_1)\n",
    "print('h_cv_r_monof =', h_cv_r_monof_1)"
   ]
  },
  {
   "cell_type": "code",
   "execution_count": 7,
   "id": "659af757",
   "metadata": {},
   "outputs": [],
   "source": [
    "NTU_1 = NTU(A, U_1, C_dot_min_wet)\n",
    "epsilon = epsilon(NTU_1)"
   ]
  },
  {
   "cell_type": "code",
   "execution_count": 8,
   "id": "68630235",
   "metadata": {},
   "outputs": [],
   "source": [
    "h_r_salida = 2\n",
    "h_r_entrada = h_cv_r_monof_1\n",
    "Q_dot_ev_1_1 = Q_dot_ev_1(m_dot_r, h_r_salida, h_r_entrada)\n",
    "\n",
    "Q_dot_ev_2_1 = Q_dot_ev_2(epsilon, C_dot_min_wet, t_bulbohumedo, t_r_entrada)\n",
    "\n",
    "C_p_ff = C_p_fa\n",
    "Q_dot_ev_3_1 = Q_dot_ev_3(m_dot_a, t_bulbohumedo_en, t_bulbohumedo_sal, C_p_ff) \n",
    "\n",
    "h_a_en = h_cv_a_1+5\n",
    "h_a_sal = h_cv_a_1-5\n",
    "W_a_en = 0.8\n",
    "W_a_sal = 0.05\n",
    "Q_dot_ev_4_1 = Q_dot_ev_4(m_dot_a, h_a_en, h_a_sal, W_a_en, W_a_sal, C_p_ff)"
   ]
  },
  {
   "cell_type": "code",
   "execution_count": 9,
   "id": "f2365db7",
   "metadata": {},
   "outputs": [
    {
     "name": "stdout",
     "output_type": "stream",
     "text": [
      "Q_1 = 19.99765013172549\n",
      "Q_2 = -7.519527354702405e-05\n",
      "Q_3 = -0.18\n",
      "Q_4 = 119.9865\n"
     ]
    }
   ],
   "source": [
    "print('Q_1 =', Q_dot_ev_1_1)\n",
    "print('Q_2 =', Q_dot_ev_2_1)\n",
    "print('Q_3 =', Q_dot_ev_3_1)\n",
    "print('Q_4 =', Q_dot_ev_4_1)"
   ]
  },
  {
   "cell_type": "code",
   "execution_count": null,
   "id": "9768e1ce",
   "metadata": {},
   "outputs": [],
   "source": []
  }
 ],
 "metadata": {
  "kernelspec": {
   "display_name": "Python 3 (ipykernel)",
   "language": "python",
   "name": "python3"
  },
  "language_info": {
   "codemirror_mode": {
    "name": "ipython",
    "version": 3
   },
   "file_extension": ".py",
   "mimetype": "text/x-python",
   "name": "python",
   "nbconvert_exporter": "python",
   "pygments_lexer": "ipython3",
   "version": "3.10.10"
  }
 },
 "nbformat": 4,
 "nbformat_minor": 5
}
